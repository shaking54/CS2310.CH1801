{
 "cells": [
  {
   "cell_type": "code",
   "execution_count": 1,
   "metadata": {},
   "outputs": [],
   "source": [
    "import torch\n",
    "from torchvision import datasets, transforms\n",
    "import torch.optim as optim\n",
    "import torch.nn.functional as F\n",
    "import matplotlib.pyplot as plt"
   ]
  },
  {
   "cell_type": "code",
   "execution_count": 24,
   "metadata": {},
   "outputs": [],
   "source": [
    "device = torch.device(\"cuda:0\")"
   ]
  },
  {
   "cell_type": "code",
   "execution_count": 3,
   "metadata": {},
   "outputs": [],
   "source": [
    "import torch\n",
    "from torch import nn\n",
    "\n",
    "class AutoEncoder(nn.Module):\n",
    "    def __init__(self, *args, **kwargs) -> None:\n",
    "        super().__init__(*args, **kwargs)\n",
    "        # self.encoder = nn.Sequential(\n",
    "        #     nn.Conv2d(1, 16, 3, padding='same'),\n",
    "        #     nn.ReLU(),\n",
    "        #     nn.MaxPool2d(2, 2),\n",
    "        #     nn.Conv2d(16, 16, 3, padding='same'),\n",
    "        #     nn.ReLU(),\n",
    "        #     nn.Conv2d(16, 16, 3, padding='same'),\n",
    "        #     nn.ReLU(),\n",
    "        #     nn.MaxPool2d(2, 2),\n",
    "        #     nn.Conv2d(16, 8, 3, padding='same'),\n",
    "        #     nn.ReLU(),\n",
    "        #     nn.Conv2d(8, 8, 3, padding='same'),\n",
    "        #     nn.ReLU(),\n",
    "        #     nn.MaxPool2d(2, 2),\n",
    "        #     nn.Flatten(),\n",
    "        #     nn.Linear(3*3*8, 128),\n",
    "        #     nn.ReLU(),\n",
    "        #     nn.Linear(128, 36),\n",
    "        #     nn.ReLU(),\n",
    "        # )\n",
    "        # self.decoder = nn.Sequential(\n",
    "        #     nn.Unflatten(1, (4, 3, 3)),\n",
    "        #     nn.ConvTranspose2d(4, 8, 3, stride=2, padding=0),\n",
    "        #     nn.ReLU(),\n",
    "        #     nn.ConvTranspose2d(8, 16, 2, stride=2, padding=0),\n",
    "        #     nn.ReLU(),\n",
    "        #     nn.ConvTranspose2d(16, 1, 2, stride=2),\n",
    "        # )\n",
    "        # self.encoder = nn.Sequential(\n",
    "        #             nn.Conv2d(1, 16, 3, padding='same'),\n",
    "        #             nn.ReLU(),\n",
    "        #             # # nn.MaxPool2d(2, 2),\n",
    "        #             nn.Conv2d(16, 16, 3, stride=2),\n",
    "        #             nn.ReLU(),\n",
    "        #             nn.Conv2d(16, 16, 3, stride=2),\n",
    "        #             nn.ReLU(),\n",
    "        #             # # nn.MaxPool2d(2, 2),\n",
    "        #             nn.Conv2d(16, 8, 3,  stride=2),\n",
    "        #             nn.ReLU(),\n",
    "        #             # nn.Conv2d(8, 8, 3, stride=2),\n",
    "        #             # nn.ReLU(),\n",
    "        #             # # nn.MaxPool2d(2, 2),\n",
    "        #             nn.Flatten(),\n",
    "        #             nn.Linear(32, 64),\n",
    "        #             # nn.ReLU(),\n",
    "        #             nn.Linear(64, 72),\n",
    "        #             # nn.ReLU(),\n",
    "        #         )\n",
    "        # # Hout​=(Hin​−1)×stride[0]−2×padding[0]+dilation[0]×(kernel_size[0]−1)+output_padding[0]+1\n",
    "        # self.decoder = nn.Sequential(\n",
    "        #             nn.Unflatten(1, (8, 3, 3)),\n",
    "        #             nn.ConvTranspose2d(8, 16, 3, stride=2, padding=0),\n",
    "        #             nn.ReLU(),\n",
    "        #             nn.ConvTranspose2d(16, 32, 2, stride=2, padding=0),\n",
    "        #             nn.ReLU(),\n",
    "        #             nn.ConvTranspose2d(32, 1, 2, stride=2),\n",
    "        #             # nn.Tanh()\n",
    "        #         )\n",
    "        self.encoder = torch.nn.Sequential(\n",
    "            torch.nn.Linear(28 * 28, 128),\n",
    "            torch.nn.ReLU(),\n",
    "            torch.nn.Linear(128, 64),\n",
    "            torch.nn.ReLU(),\n",
    "            torch.nn.Linear(64, 36),\n",
    "            torch.nn.ReLU(),\n",
    "            torch.nn.Linear(36, 18),\n",
    "            torch.nn.ReLU(),\n",
    "            torch.nn.Linear(18, 9)\n",
    "        )\n",
    "         \n",
    "        # Building an linear decoder with Linear\n",
    "        # layer followed by Relu activation function\n",
    "        # The Sigmoid activation function\n",
    "        # outputs the value between 0 and 1\n",
    "        # 9 ==> 784\n",
    "        self.decoder = torch.nn.Sequential(\n",
    "            torch.nn.Linear(9, 18),\n",
    "            torch.nn.ReLU(),\n",
    "            torch.nn.Linear(18, 36),\n",
    "            torch.nn.ReLU(),\n",
    "            torch.nn.Linear(36, 64),\n",
    "            torch.nn.ReLU(),\n",
    "            torch.nn.Linear(64, 128),\n",
    "            torch.nn.ReLU(),\n",
    "            torch.nn.Linear(128, 28 * 28),\n",
    "            torch.nn.Sigmoid()\n",
    "        )\n",
    "# Hout​=(Hin​−1)×stride[0]−2×padding[0]+dilation[0]×(kernel_size[0]−1)+output_padding[0]+1\n",
    "\n",
    "    def forward(self, x):\n",
    "        x = self.encoder(x)\n",
    "        x = self.decoder(x)\n",
    "        return x\n"
   ]
  },
  {
   "cell_type": "code",
   "execution_count": 340,
   "metadata": {},
   "outputs": [],
   "source": [
    "import matplotlib.pyplot as plt"
   ]
  },
  {
   "cell_type": "code",
   "execution_count": 4,
   "metadata": {},
   "outputs": [],
   "source": [
    "\n",
    "transform=transforms.Compose([\n",
    "    transforms.ToTensor(),\n",
    "    # transforms.Normalize((0.1307,), (0.3081,)),\n",
    "    transforms.Lambda(lambda x: x.view(-1))\n",
    "    ])\n",
    "dataset1 = datasets.MNIST('./data', train=True, download=True, transform=transform)\n",
    "\n",
    "dataset2 = datasets.MNIST('./data', train=False, transform=transform)\n",
    "train_kwargs = {'batch_size': 128}\n",
    "test_kwargs = {'batch_size': 128}\n",
    "train_loader = torch.utils.data.DataLoader(dataset1,**train_kwargs)\n",
    "test_loader = torch.utils.data.DataLoader(dataset2, **test_kwargs)\n"
   ]
  },
  {
   "cell_type": "code",
   "execution_count": 26,
   "metadata": {},
   "outputs": [
    {
     "data": {
      "text/plain": [
       "213.21961620469082"
      ]
     },
     "execution_count": 26,
     "metadata": {},
     "output_type": "execute_result"
    }
   ],
   "source": [
    "100000 / len(train_loader)"
   ]
  },
  {
   "cell_type": "code",
   "execution_count": 5,
   "metadata": {},
   "outputs": [
    {
     "name": "stderr",
     "output_type": "stream",
     "text": [
      "[TRAIN]:Epoch 0 Loss 0.0598: 100%|██████████| 469/469 [00:10<00:00]\n",
      "[VAL]:Epoch 0 Loss 0.0592: 100%|██████████| 79/79 [00:01<00:00]\n",
      "[TRAIN]:Epoch 1 Loss 0.0561: 100%|██████████| 469/469 [00:08<00:00]\n",
      "[TRAIN]:Epoch 2 Loss 0.0524: 100%|██████████| 469/469 [00:09<00:00]\n",
      "[TRAIN]:Epoch 3 Loss 0.0499: 100%|██████████| 469/469 [00:09<00:00]\n",
      "[TRAIN]:Epoch 4 Loss 0.0441: 100%|██████████| 469/469 [00:09<00:00]\n",
      "[TRAIN]:Epoch 5 Loss 0.0396: 100%|██████████| 469/469 [00:09<00:00]\n",
      "[TRAIN]:Epoch 6 Loss 0.0370: 100%|██████████| 469/469 [00:08<00:00]\n",
      "[TRAIN]:Epoch 7 Loss 0.0351: 100%|██████████| 469/469 [00:09<00:00]\n",
      "[TRAIN]:Epoch 8 Loss 0.0335: 100%|██████████| 469/469 [00:08<00:00]\n",
      "[TRAIN]:Epoch 9 Loss 0.0323: 100%|██████████| 469/469 [00:08<00:00]\n",
      "[TRAIN]:Epoch 10 Loss 0.0314: 100%|██████████| 469/469 [00:08<00:00]\n",
      "[VAL]:Epoch 10 Loss 0.0330: 100%|██████████| 79/79 [00:01<00:00]\n",
      "[TRAIN]:Epoch 11 Loss 0.0309: 100%|██████████| 469/469 [00:08<00:00]\n",
      "[TRAIN]:Epoch 12 Loss 0.0304: 100%|██████████| 469/469 [00:09<00:00]\n",
      "[TRAIN]:Epoch 13 Loss 0.0302: 100%|██████████| 469/469 [00:09<00:00]\n",
      "[TRAIN]:Epoch 14 Loss 0.0301: 100%|██████████| 469/469 [00:08<00:00]\n",
      "[TRAIN]:Epoch 15 Loss 0.0297: 100%|██████████| 469/469 [00:08<00:00]\n",
      "[TRAIN]:Epoch 16 Loss 0.0295: 100%|██████████| 469/469 [00:08<00:00]\n",
      "[TRAIN]:Epoch 17 Loss 0.0292: 100%|██████████| 469/469 [00:08<00:00]\n",
      "[TRAIN]:Epoch 18 Loss 0.0291: 100%|██████████| 469/469 [00:08<00:00]\n",
      "[TRAIN]:Epoch 19 Loss 0.0290: 100%|██████████| 469/469 [00:08<00:00]\n",
      "[TRAIN]:Epoch 20 Loss 0.0289: 100%|██████████| 469/469 [00:08<00:00]\n",
      "[VAL]:Epoch 20 Loss 0.0288: 100%|██████████| 79/79 [00:01<00:00]\n",
      "[TRAIN]:Epoch 21 Loss 0.0285: 100%|██████████| 469/469 [00:08<00:00]\n",
      "[TRAIN]:Epoch 22 Loss 0.0281: 100%|██████████| 469/469 [00:09<00:00]\n",
      "[TRAIN]:Epoch 23 Loss 0.0282: 100%|██████████| 469/469 [00:09<00:00]\n",
      "[TRAIN]:Epoch 24 Loss 0.0279: 100%|██████████| 469/469 [00:09<00:00]\n",
      "[TRAIN]:Epoch 25 Loss 0.0278: 100%|██████████| 469/469 [00:08<00:00]\n",
      "[TRAIN]:Epoch 26 Loss 0.0276: 100%|██████████| 469/469 [00:09<00:00]\n",
      "[TRAIN]:Epoch 27 Loss 0.0277: 100%|██████████| 469/469 [00:09<00:00]\n",
      "[TRAIN]:Epoch 28 Loss 0.0275: 100%|██████████| 469/469 [00:09<00:00]\n",
      "[TRAIN]:Epoch 29 Loss 0.0275: 100%|██████████| 469/469 [00:09<00:00]\n",
      "[TRAIN]:Epoch 30 Loss 0.0275: 100%|██████████| 469/469 [00:08<00:00]\n",
      "[VAL]:Epoch 30 Loss 0.0272: 100%|██████████| 79/79 [00:01<00:00]\n",
      "[TRAIN]:Epoch 31 Loss 0.0272: 100%|██████████| 469/469 [00:08<00:00]\n",
      "[TRAIN]:Epoch 32 Loss 0.0270: 100%|██████████| 469/469 [00:08<00:00]\n",
      "[TRAIN]:Epoch 33 Loss 0.0266: 100%|██████████| 469/469 [00:08<00:00]\n",
      "[TRAIN]:Epoch 34 Loss 0.0267: 100%|██████████| 469/469 [00:08<00:00]\n",
      "[TRAIN]:Epoch 35 Loss 0.0264: 100%|██████████| 469/469 [00:08<00:00]\n",
      "[TRAIN]:Epoch 36 Loss 0.0262: 100%|██████████| 469/469 [00:08<00:00]\n",
      "[TRAIN]:Epoch 37 Loss 0.0260: 100%|██████████| 469/469 [00:08<00:00]\n",
      "[TRAIN]:Epoch 38 Loss 0.0258: 100%|██████████| 469/469 [00:08<00:00]\n",
      "[TRAIN]:Epoch 39 Loss 0.0256: 100%|██████████| 469/469 [00:09<00:00]\n"
     ]
    }
   ],
   "source": [
    "# def train(model, device, train_loader, optimizer, epoch):\n",
    "\n",
    "from tqdm import tqdm \n",
    "model = AutoEncoder().to(device)\n",
    "# Adadelta : failed\n",
    "optimizer = optim.Adam(model.parameters(), lr=0.001, weight_decay=1e-5)\n",
    "total_epoch = 40\n",
    "eval_every = 10\n",
    "for epoch in range(total_epoch):\n",
    "    bar = tqdm(train_loader, total=len(train_loader), bar_format='{l_bar}{bar}| {n_fmt}/{total_fmt} [{elapsed}<{remaining}]', leave=True, position=0)\n",
    "    model.train()\n",
    "    for batch_idx, (data, target) in enumerate(bar):\n",
    "        data, target = data.to(device), target.to(device)\n",
    "        optimizer.zero_grad()\n",
    "        output = model(data)\n",
    "        loss = F.mse_loss(output, data)\n",
    "        loss.backward()\n",
    "        optimizer.step()\n",
    "        bar.set_description(f'[TRAIN]:Epoch {epoch} Loss {loss.item():.4f}')\n",
    "    if epoch % eval_every == 0:\n",
    "        model.eval()\n",
    "        bar_eval = tqdm(test_loader, total=len(test_loader), bar_format='{l_bar}{bar}| {n_fmt}/{total_fmt} [{elapsed}<{remaining}]', leave=True, position=1)\n",
    "        with torch.no_grad():\n",
    "            for data, target in bar_eval:\n",
    "                data, target = data.to(device), target.to(device)\n",
    "                output = model(data)\n",
    "                loss = F.mse_loss(output, data)\n",
    "                bar_eval.set_description(f'[VAL]:Epoch {epoch} Loss {loss.item():.4f}')\n",
    "        model.train()"
   ]
  },
  {
   "cell_type": "code",
   "execution_count": 16,
   "metadata": {},
   "outputs": [
    {
     "data": {
      "image/png": "[encoded data removed]",
      "text/plain": [
       "<Figure size 640x480 with 5 Axes>"
      ]
     },
     "metadata": {},
     "output_type": "display_data"
    },
    {
     "data": {
      "image/png": "[encoded data removed]",
      "text/plain": [
       "<Figure size 640x480 with 5 Axes>"
      ]
     },
     "metadata": {},
     "output_type": "display_data"
    }
   ],
   "source": [
    "def plotn(n, x):\n",
    "    fig, ax = plt.subplots(1, n)\n",
    "    for i, z in enumerate(x[0:n]):\n",
    "        ax[i].imshow(z.reshape(28,28) if z.size==28*28 else z.reshape(14,14) if z.size==14*14 else z)\n",
    "    plt.show()\n",
    "data_ = data.cpu().numpy()\n",
    "data_[0:5].shape\n",
    "output_ = output.detach().cpu().numpy()\n",
    "output_[0:5].shape\n",
    "plotn(5,data_[0:5])\n",
    "plotn(5,output_[0:5])\n",
    "\n"
   ]
  },
  {
   "cell_type": "code",
   "execution_count": 331,
   "metadata": {},
   "outputs": [
    {
     "name": "stdout",
     "output_type": "stream",
     "text": [
      "torch.Size([3, 72])\n",
      "torch.Size([3, 1, 28, 28])\n"
     ]
    }
   ],
   "source": [
    "input_shape = (1, 28, 28)\n",
    "encoder = nn.Sequential(\n",
    "            nn.Conv2d(1, 16, 3, padding='same'),\n",
    "            nn.ReLU(),\n",
    "            # # nn.MaxPool2d(2, 2),\n",
    "            nn.Conv2d(16, 16, 3, stride=2),\n",
    "            nn.ReLU(),\n",
    "            nn.Conv2d(16, 16, 3, stride=2),\n",
    "            nn.ReLU(),\n",
    "            # # nn.MaxPool2d(2, 2),\n",
    "            nn.Conv2d(16, 8, 3,  stride=2),\n",
    "            nn.ReLU(),\n",
    "            # nn.Conv2d(8, 8, 3, stride=2),\n",
    "            # nn.ReLU(),\n",
    "            # # nn.MaxPool2d(2, 2),\n",
    "            nn.Flatten(),\n",
    "            nn.Linear(32, 64),\n",
    "            # nn.ReLU(),\n",
    "            nn.Linear(64, 72),\n",
    "            # nn.ReLU(),\n",
    "        )\n",
    "# Hout​=(Hin​−1)×stride[0]−2×padding[0]+dilation[0]×(kernel_size[0]−1)+output_padding[0]+1\n",
    "decoder = nn.Sequential(\n",
    "            nn.Unflatten(1, (8, 3, 3)),\n",
    "            nn.ConvTranspose2d(8, 16, 3, stride=2, padding=0),\n",
    "            nn.ReLU(),\n",
    "            nn.ConvTranspose2d(16, 32, 2, stride=2, padding=0),\n",
    "            nn.ReLU(),\n",
    "            nn.ConvTranspose2d(32, 1, 2, stride=2),\n",
    "            # nn.Tanh()\n",
    "        )\n",
    "out_encoder = encoder(torch.randn(3, 1, 28, 28))\n",
    "print(out_encoder.shape)\n",
    "out_decoder = decoder(out_encoder)\n",
    "print(out_decoder.shape)"
   ]
  },
  {
   "cell_type": "code",
   "execution_count": 17,
   "metadata": {},
   "outputs": [],
   "source": [
    "import torch\n",
    "from torch import nn\n",
    "\n",
    "class AutoEncoder_v2(nn.Module):\n",
    "    def __init__(self, *args, **kwargs) -> None:\n",
    "        super().__init__(*args, **kwargs)\n",
    "        self.encoder = nn.Sequential(\n",
    "                    nn.Conv2d(1, 16, 3, padding='same'),\n",
    "                    nn.ReLU(),\n",
    "                    # # nn.MaxPool2d(2, 2),\n",
    "                    nn.Conv2d(16, 16, 3, stride=2),\n",
    "                    nn.ReLU(),\n",
    "                    nn.Conv2d(16, 16, 3, stride=2),\n",
    "                    nn.ReLU(),\n",
    "                    # # nn.MaxPool2d(2, 2),\n",
    "                    nn.Conv2d(16, 8, 3,  stride=2),\n",
    "                    nn.ReLU(),\n",
    "                    nn.Flatten(),\n",
    "                    nn.Linear(32, 64),\n",
    "                    nn.Linear(64, 72),\n",
    "\n",
    "                )\n",
    "        self.decoder = nn.Sequential(\n",
    "                    nn.Unflatten(1, (8, 3, 3)),\n",
    "                    nn.ConvTranspose2d(8, 16, 3, stride=2, padding=0),\n",
    "                    nn.ReLU(),\n",
    "                    nn.ConvTranspose2d(16, 32, 2, stride=2, padding=0),\n",
    "                    nn.ReLU(),\n",
    "                    nn.ConvTranspose2d(32, 1, 2, stride=2),\n",
    "                    nn.Sigmoid()\n",
    "                    # nn.Tanh()\n",
    "                )\n",
    "\n",
    "    def forward(self, x):\n",
    "        x = self.encoder(x)\n",
    "        x = self.decoder(x)\n",
    "        return x\n"
   ]
  },
  {
   "cell_type": "code",
   "execution_count": 22,
   "metadata": {},
   "outputs": [
    {
     "name": "stderr",
     "output_type": "stream",
     "text": [
      "[TRAIN]:Epoch 0 Loss 0.0492: 100%|██████████| 469/469 [00:08<00:00]\n",
      "[VAL]:Epoch 0 Loss 0.0482: 100%|██████████| 79/79 [00:01<00:00]\n",
      "[TRAIN]:Epoch 1 Loss 0.0304: 100%|██████████| 469/469 [00:08<00:00]\n",
      "[TRAIN]:Epoch 2 Loss 0.0258: 100%|██████████| 469/469 [00:08<00:00]\n",
      "[TRAIN]:Epoch 3 Loss 0.0232: 100%|██████████| 469/469 [00:08<00:00]\n",
      "[TRAIN]:Epoch 4 Loss 0.0219: 100%|██████████| 469/469 [00:08<00:00]\n",
      "[TRAIN]:Epoch 5 Loss 0.0211: 100%|██████████| 469/469 [00:08<00:00]\n",
      "[TRAIN]:Epoch 6 Loss 0.0205: 100%|██████████| 469/469 [00:08<00:00]\n",
      "[TRAIN]:Epoch 7 Loss 0.0199: 100%|██████████| 469/469 [00:08<00:00]\n",
      "[TRAIN]:Epoch 8 Loss 0.0194: 100%|██████████| 469/469 [00:08<00:00]\n",
      "[TRAIN]:Epoch 9 Loss 0.0191: 100%|██████████| 469/469 [00:08<00:00]\n",
      "[TRAIN]:Epoch 10 Loss 0.0188: 100%|██████████| 469/469 [00:08<00:00]\n",
      "[VAL]:Epoch 10 Loss 0.0139: 100%|██████████| 79/79 [00:01<00:00]\n",
      "[TRAIN]:Epoch 11 Loss 0.0186: 100%|██████████| 469/469 [00:08<00:00]\n",
      "[TRAIN]:Epoch 12 Loss 0.0183: 100%|██████████| 469/469 [00:08<00:00]\n",
      "[TRAIN]:Epoch 13 Loss 0.0180: 100%|██████████| 469/469 [00:08<00:00]\n",
      "[TRAIN]:Epoch 14 Loss 0.0177: 100%|██████████| 469/469 [00:07<00:00]\n",
      "[TRAIN]:Epoch 15 Loss 0.0175: 100%|██████████| 469/469 [00:08<00:00]\n",
      "[TRAIN]:Epoch 16 Loss 0.0173: 100%|██████████| 469/469 [00:07<00:00]\n",
      "[TRAIN]:Epoch 17 Loss 0.0171: 100%|██████████| 469/469 [00:08<00:00]\n",
      "[TRAIN]:Epoch 18 Loss 0.0170: 100%|██████████| 469/469 [00:08<00:00]\n",
      "[TRAIN]:Epoch 19 Loss 0.0169: 100%|██████████| 469/469 [00:08<00:00]\n",
      "[TRAIN]:Epoch 20 Loss 0.0168: 100%|██████████| 469/469 [00:08<00:00]\n",
      "[VAL]:Epoch 20 Loss 0.0124: 100%|██████████| 79/79 [00:01<00:00]\n",
      "[TRAIN]:Epoch 21 Loss 0.0167: 100%|██████████| 469/469 [00:08<00:00]\n",
      "[TRAIN]:Epoch 22 Loss 0.0166: 100%|██████████| 469/469 [00:08<00:00]\n",
      "[TRAIN]:Epoch 23 Loss 0.0165: 100%|██████████| 469/469 [00:08<00:00]\n",
      "[TRAIN]:Epoch 24 Loss 0.0164: 100%|██████████| 469/469 [00:08<00:00]\n",
      "[TRAIN]:Epoch 25 Loss 0.0164: 100%|██████████| 469/469 [00:08<00:00]\n",
      "[TRAIN]:Epoch 26 Loss 0.0164: 100%|██████████| 469/469 [00:08<00:00]\n",
      "[TRAIN]:Epoch 27 Loss 0.0163: 100%|██████████| 469/469 [00:08<00:00]\n",
      "[TRAIN]:Epoch 28 Loss 0.0163: 100%|██████████| 469/469 [00:08<00:00]\n",
      "[TRAIN]:Epoch 29 Loss 0.0162: 100%|██████████| 469/469 [00:08<00:00]\n",
      "[TRAIN]:Epoch 30 Loss 0.0161: 100%|██████████| 469/469 [00:08<00:00]\n",
      "[VAL]:Epoch 30 Loss 0.0118: 100%|██████████| 79/79 [00:01<00:00]\n",
      "[TRAIN]:Epoch 31 Loss 0.0161: 100%|██████████| 469/469 [00:08<00:00]\n",
      "[TRAIN]:Epoch 32 Loss 0.0160: 100%|██████████| 469/469 [00:08<00:00]\n",
      "[TRAIN]:Epoch 33 Loss 0.0160: 100%|██████████| 469/469 [00:08<00:00]\n",
      "[TRAIN]:Epoch 34 Loss 0.0159: 100%|██████████| 469/469 [00:08<00:00]\n",
      "[TRAIN]:Epoch 35 Loss 0.0159: 100%|██████████| 469/469 [00:08<00:00]\n",
      "[TRAIN]:Epoch 36 Loss 0.0158: 100%|██████████| 469/469 [00:08<00:00]\n",
      "[TRAIN]:Epoch 37 Loss 0.0157: 100%|██████████| 469/469 [00:08<00:00]\n",
      "[TRAIN]:Epoch 38 Loss 0.0157: 100%|██████████| 469/469 [00:08<00:00]\n",
      "[TRAIN]:Epoch 39 Loss 0.0157: 100%|██████████| 469/469 [00:09<00:00]\n"
     ]
    }
   ],
   "source": [
    "# autoencoder v2, same batch size, same learning rate, same weight decay, epoch 40, eval_every 10\n",
    "\n",
    "transform=transforms.Compose([\n",
    "    transforms.ToTensor(),\n",
    "    ])\n",
    "dataset1 = datasets.MNIST('./data', train=True, download=True, transform=transform)\n",
    "\n",
    "dataset2 = datasets.MNIST('./data', train=False, transform=transform)\n",
    "train_kwargs = {'batch_size': 128}\n",
    "test_kwargs = {'batch_size': 128}\n",
    "train_loader = torch.utils.data.DataLoader(dataset1,**train_kwargs)\n",
    "test_loader = torch.utils.data.DataLoader(dataset2, **test_kwargs)\n",
    "\n",
    "# def train(model, device, train_loader, optimizer, epoch):\n",
    "\n",
    "from tqdm import tqdm \n",
    "model = AutoEncoder_v2().to(device)\n",
    "optimizer = optim.Adam(model.parameters(), lr=0.001, weight_decay=1e-5)\n",
    "total_epoch = 40\n",
    "eval_every = 10\n",
    "for epoch in range(total_epoch):\n",
    "    bar = tqdm(train_loader, total=len(train_loader), bar_format='{l_bar}{bar}| {n_fmt}/{total_fmt} [{elapsed}<{remaining}]', leave=True, position=0)\n",
    "    model.train()\n",
    "    for batch_idx, (data, target) in enumerate(bar):\n",
    "        data, target = data.to(device), target.to(device)\n",
    "        optimizer.zero_grad()\n",
    "        output = model(data)\n",
    "        loss = F.mse_loss(output, data)\n",
    "        loss.backward()\n",
    "        optimizer.step()\n",
    "        bar.set_description(f'[TRAIN]:Epoch {epoch} Loss {loss.item():.4f}')\n",
    "    if epoch % eval_every == 0:\n",
    "        model.eval()\n",
    "        bar_eval = tqdm(test_loader, total=len(test_loader), bar_format='{l_bar}{bar}| {n_fmt}/{total_fmt} [{elapsed}<{remaining}]', leave=True, position=1)\n",
    "        with torch.no_grad():\n",
    "            for data, target in bar_eval:\n",
    "                data, target = data.to(device), target.to(device)\n",
    "                output = model(data)\n",
    "                loss = F.mse_loss(output, data)\n",
    "                bar_eval.set_description(f'[VAL]:Epoch {epoch} Loss {loss.item():.4f}')\n",
    "        model.train()"
   ]
  },
  {
   "cell_type": "code",
   "execution_count": 23,
   "metadata": {},
   "outputs": [
    {
     "data": {
      "image/png": "[encoded data removed]",
      "text/plain": [
       "<Figure size 640x480 with 5 Axes>"
      ]
     },
     "metadata": {},
     "output_type": "display_data"
    },
    {
     "data": {
      "image/png": "[encoded data removed]",
      "text/plain": [
       "<Figure size 640x480 with 5 Axes>"
      ]
     },
     "metadata": {},
     "output_type": "display_data"
    }
   ],
   "source": [
    "data_ = data.cpu().numpy()\n",
    "data_[0:5].shape\n",
    "output_ = output.detach().cpu().numpy()\n",
    "output_[0:5].shape\n",
    "plotn(5,data_[0:5])\n",
    "plotn(5,output_[0:5])"
   ]
  },
  {
   "cell_type": "markdown",
   "metadata": {},
   "source": [
    "# Denoise MNIST"
   ]
  },
  {
   "cell_type": "code",
   "execution_count": 5,
   "metadata": {},
   "outputs": [],
   "source": [
    "import torch\n",
    "from torchvision import datasets, transforms\n",
    "from torch.utils.data import Dataset, DataLoader\n",
    "\n",
    "import matplotlib.pyplot as plt\n",
    "from pathlib import Path\n",
    "from PIL import Image\n",
    "from tqdm import tqdm\n",
    "import torch.optim as optim\n",
    "import torch.nn.functional as F\n"
   ]
  },
  {
   "cell_type": "code",
   "execution_count": 54,
   "metadata": {},
   "outputs": [],
   "source": [
    "from torch import nn\n",
    "\n",
    "class AutoEncoder_V4_noise(nn.Module):\n",
    "    def __init__(self, *args, **kwargs) -> None:\n",
    "        super().__init__(*args, **kwargs)\n",
    "        self.encoder = nn.Sequential(\n",
    "                nn.Conv2d(1, 32, 3, stride=2),\n",
    "                nn.ReLU(),\n",
    "                nn.Conv2d(32, 32, 3, stride=2),\n",
    "                nn.ReLU(),\n",
    "                nn.Conv2d(32, 64, 3, stride=2),\n",
    "                nn.ReLU(),\n",
    "                )\n",
    "        self.decoder = nn.Sequential(\n",
    "                        nn.ConvTranspose2d(64, 32, 5, stride=2, padding=0),\n",
    "                        nn.ReLU(),\n",
    "                        nn.ConvTranspose2d(32, 32, 2, stride=2, padding=0),\n",
    "                        nn.ReLU(),\n",
    "                        nn.ConvTranspose2d(32, 1, 2, stride=2, padding=0),\n",
    "                        nn.Sigmoid()\n",
    "                )\n",
    "    def forward(self, x):\n",
    "        x = self.encoder(x)\n",
    "        x = self.decoder(x)\n",
    "        return x"
   ]
  },
  {
   "cell_type": "code",
   "execution_count": 43,
   "metadata": {},
   "outputs": [],
   "source": [
    "class MyMNIST_noise(datasets.MNIST):\n",
    "    def __init__(self, root, train=True, transform=None, target_transform=None, download=False):\n",
    "        super(MyMNIST_noise, self).__init__(root, train, transform, target_transform, download)\n",
    "        self.transforms_noise = transforms.Compose([\n",
    "            transforms.Lambda(lambda x: torch.clip(x + torch.FloatTensor(x.shape).uniform_(-0.15, 0.15), 0., 1.))\n",
    "        ])\n",
    "    def __getitem__(self, index):\n",
    "        img, target = super().__getitem__(index)\n",
    "        img_noise = self.transforms_noise(img)\n",
    "        return img, img_noise\n",
    "        \n",
    "transform=transforms.Compose([\n",
    "    transforms.ToTensor(),\n",
    "    ])\n",
    "dataset1 = MyMNIST_noise('./data', train=True, download=True, transform=transform)\n",
    "\n",
    "dataset2 = MyMNIST_noise('./data', train=False, transform=transform)\n"
   ]
  },
  {
   "cell_type": "code",
   "execution_count": 44,
   "metadata": {},
   "outputs": [],
   "source": [
    "train_loader = DataLoader(dataset1, batch_size=128, shuffle=True)\n",
    "test_loader = DataLoader(dataset2, batch_size=128, shuffle=False)"
   ]
  },
  {
   "cell_type": "code",
   "execution_count": 55,
   "metadata": {},
   "outputs": [
    {
     "name": "stderr",
     "output_type": "stream",
     "text": [
      "  0%|          | 0/469 [00:00<?]"
     ]
    },
    {
     "name": "stderr",
     "output_type": "stream",
     "text": [
      "[TRAIN]:Epoch 0 Loss 0.0147: 100%|██████████| 469/469 [00:11<00:00]\n",
      "[VAL]:Epoch 0 Loss 0.0126: 100%|██████████| 79/79 [00:01<00:00]\n",
      "[TRAIN]:Epoch 1 Loss 0.0095: 100%|██████████| 469/469 [00:11<00:00]\n",
      "[TRAIN]:Epoch 2 Loss 0.0079: 100%|██████████| 469/469 [00:11<00:00]\n",
      "[TRAIN]:Epoch 3 Loss 0.0069: 100%|██████████| 469/469 [00:10<00:00]\n",
      "[TRAIN]:Epoch 4 Loss 0.0057: 100%|██████████| 469/469 [00:10<00:00]\n",
      "[TRAIN]:Epoch 5 Loss 0.0051: 100%|██████████| 469/469 [00:10<00:00]\n",
      "[TRAIN]:Epoch 6 Loss 0.0047: 100%|██████████| 469/469 [00:10<00:00]\n",
      "[TRAIN]:Epoch 7 Loss 0.0047: 100%|██████████| 469/469 [00:10<00:00]\n",
      "[TRAIN]:Epoch 8 Loss 0.0040: 100%|██████████| 469/469 [00:10<00:00]\n",
      "[TRAIN]:Epoch 9 Loss 0.0038: 100%|██████████| 469/469 [00:11<00:00]\n",
      "[TRAIN]:Epoch 10 Loss 0.0037: 100%|██████████| 469/469 [00:11<00:00]\n",
      "[VAL]:Epoch 10 Loss 0.0029: 100%|██████████| 79/79 [00:01<00:00]\n",
      "[TRAIN]:Epoch 11 Loss 0.0034: 100%|██████████| 469/469 [00:10<00:00]\n",
      "[TRAIN]:Epoch 12 Loss 0.0036: 100%|██████████| 469/469 [00:10<00:00]\n",
      "[TRAIN]:Epoch 13 Loss 0.0031: 100%|██████████| 469/469 [00:10<00:00]\n",
      "[TRAIN]:Epoch 14 Loss 0.0034: 100%|██████████| 469/469 [00:11<00:00]\n",
      "[TRAIN]:Epoch 15 Loss 0.0033: 100%|██████████| 469/469 [00:10<00:00]\n",
      "[TRAIN]:Epoch 16 Loss 0.0034: 100%|██████████| 469/469 [00:10<00:00]\n",
      "[TRAIN]:Epoch 17 Loss 0.0029: 100%|██████████| 469/469 [00:11<00:00]\n",
      "[TRAIN]:Epoch 18 Loss 0.0034: 100%|██████████| 469/469 [00:11<00:00]\n",
      "[TRAIN]:Epoch 19 Loss 0.0026: 100%|██████████| 469/469 [00:11<00:00]\n",
      "[TRAIN]:Epoch 20 Loss 0.0028: 100%|██████████| 469/469 [00:10<00:00]\n",
      "[VAL]:Epoch 20 Loss 0.0023: 100%|██████████| 79/79 [00:01<00:00]\n",
      "[TRAIN]:Epoch 21 Loss 0.0028: 100%|██████████| 469/469 [00:10<00:00]\n",
      "[TRAIN]:Epoch 22 Loss 0.0029: 100%|██████████| 469/469 [00:10<00:00]\n",
      "[TRAIN]:Epoch 23 Loss 0.0033: 100%|██████████| 469/469 [00:11<00:00]\n",
      "[TRAIN]:Epoch 24 Loss 0.0027: 100%|██████████| 469/469 [00:11<00:00]\n",
      "[TRAIN]:Epoch 25 Loss 0.0031: 100%|██████████| 469/469 [00:10<00:00]\n",
      "[TRAIN]:Epoch 26 Loss 0.0030: 100%|██████████| 469/469 [00:11<00:00]\n",
      "[TRAIN]:Epoch 27 Loss 0.0028: 100%|██████████| 469/469 [00:11<00:00]\n",
      "[TRAIN]:Epoch 28 Loss 0.0026: 100%|██████████| 469/469 [00:10<00:00]\n",
      "[TRAIN]:Epoch 29 Loss 0.0032: 100%|██████████| 469/469 [00:10<00:00]\n",
      "[TRAIN]:Epoch 30 Loss 0.0026: 100%|██████████| 469/469 [00:10<00:00]\n",
      "[VAL]:Epoch 30 Loss 0.0023: 100%|██████████| 79/79 [00:01<00:00]\n",
      "[TRAIN]:Epoch 31 Loss 0.0029: 100%|██████████| 469/469 [00:10<00:00]\n",
      "[TRAIN]:Epoch 32 Loss 0.0029: 100%|██████████| 469/469 [00:10<00:00]\n",
      "[TRAIN]:Epoch 33 Loss 0.0027: 100%|██████████| 469/469 [00:10<00:00]\n",
      "[TRAIN]:Epoch 34 Loss 0.0025: 100%|██████████| 469/469 [00:10<00:00]\n",
      "[TRAIN]:Epoch 35 Loss 0.0027: 100%|██████████| 469/469 [00:11<00:00]\n",
      "[TRAIN]:Epoch 36 Loss 0.0028: 100%|██████████| 469/469 [00:10<00:00]\n",
      "[TRAIN]:Epoch 37 Loss 0.0023: 100%|██████████| 469/469 [00:10<00:00]\n",
      "[TRAIN]:Epoch 38 Loss 0.0026: 100%|██████████| 469/469 [00:10<00:00]\n",
      "[TRAIN]:Epoch 39 Loss 0.0028: 100%|██████████| 469/469 [00:10<00:00]\n"
     ]
    }
   ],
   "source": [
    "from tqdm import tqdm \n",
    "model = AutoEncoder_V4_noise().to(device)\n",
    "optimizer = optim.Adam(model.parameters(), lr=0.001, weight_decay=1e-5)\n",
    "total_epoch = 40\n",
    "eval_every = 10\n",
    "for epoch in range(total_epoch):\n",
    "    bar = tqdm(train_loader, total=len(train_loader), bar_format='{l_bar}{bar}| {n_fmt}/{total_fmt} [{elapsed}<{remaining}]', leave=True, position=0)\n",
    "    model.train()\n",
    "    for batch_idx, (data, data_noise) in enumerate(bar):\n",
    "        data, data_noise = data.to(device), data_noise.to(device)\n",
    "        optimizer.zero_grad()\n",
    "        output = model(data)\n",
    "        loss = F.mse_loss(output, data)\n",
    "        loss.backward()\n",
    "        optimizer.step()\n",
    "        bar.set_description(f'[TRAIN]:Epoch {epoch} Loss {loss.item():.4f}')\n",
    "    if epoch % eval_every == 0:\n",
    "        model.eval()\n",
    "        bar_eval = tqdm(test_loader, total=len(test_loader), bar_format='{l_bar}{bar}| {n_fmt}/{total_fmt} [{elapsed}<{remaining}]', leave=True, position=1)\n",
    "        with torch.no_grad():\n",
    "            for data, data_noise in bar_eval:\n",
    "                data, data_noise = data.to(device), data_noise.to(device)\n",
    "                output = model(data)\n",
    "                loss = F.mse_loss(output, data)\n",
    "                bar_eval.set_description(f'[VAL]:Epoch {epoch} Loss {loss.item():.4f}')\n",
    "        model.train()"
   ]
  },
  {
   "cell_type": "code",
   "execution_count": 53,
   "metadata": {},
   "outputs": [
    {
     "name": "stdout",
     "output_type": "stream",
     "text": [
      "torch.Size([3, 64, 2, 2])\n",
      "torch.Size([3, 1, 28, 28])\n"
     ]
    }
   ],
   "source": [
    "encoder = nn.Sequential(\n",
    "                nn.Conv2d(1, 32, 3, stride=2),\n",
    "                nn.ReLU(),\n",
    "                nn.Conv2d(32, 32, 3, stride=2),\n",
    "                nn.ReLU(),\n",
    "                nn.Conv2d(32, 64, 3, stride=2),\n",
    "                nn.ReLU(),\n",
    "                )\n",
    "decoder = nn.Sequential(\n",
    "                        nn.ConvTranspose2d(64, 32, 5, stride=2, padding=0),\n",
    "                        nn.ReLU(),\n",
    "                        nn.ConvTranspose2d(32, 32, 2, stride=2, padding=0),\n",
    "                        nn.ReLU(),\n",
    "                        nn.ConvTranspose2d(32, 1, 2, stride=2, padding=0),\n",
    "                        nn.Sigmoid()\n",
    "                )\n",
    "input_shape = (1, 28, 28)\n",
    "encoder_output = encoder(torch.randn(3, 1, 28, 28))\n",
    "print(encoder_output.shape)\n",
    "decoder_output = decoder(encoder_output)\n",
    "print(decoder_output.shape)"
   ]
  },
  {
   "cell_type": "code",
   "execution_count": 46,
   "metadata": {},
   "outputs": [
    {
     "data": {
      "text/plain": [
       "(torch.Size([128, 1, 28, 28]), torch.Size([128, 1, 28, 28]))"
      ]
     },
     "execution_count": 46,
     "metadata": {},
     "output_type": "execute_result"
    }
   ],
   "source": [
    "data.shape, data_noise.shape"
   ]
  },
  {
   "cell_type": "code",
   "execution_count": 59,
   "metadata": {},
   "outputs": [
    {
     "name": "stderr",
     "output_type": "stream",
     "text": [
      "  0%|          | 0/79 [00:00<?]\n"
     ]
    },
    {
     "data": {
      "image/png": "[encoded data removed]",
      "text/plain": [
       "<Figure size 640x480 with 5 Axes>"
      ]
     },
     "metadata": {},
     "output_type": "display_data"
    },
    {
     "data": {
      "image/png": "[encoded data removed]",
      "text/plain": [
       "<Figure size 640x480 with 5 Axes>"
      ]
     },
     "metadata": {},
     "output_type": "display_data"
    },
    {
     "data": {
      "image/png": "[encoded data removed]",
      "text/plain": [
       "<Figure size 640x480 with 5 Axes>"
      ]
     },
     "metadata": {},
     "output_type": "display_data"
    }
   ],
   "source": [
    "def plotn(n, x, image_shape=(28,28,1)):\n",
    "    fig, ax = plt.subplots(1, n)\n",
    "    for i, z in enumerate(x[0:n]):\n",
    "        z_ = z.reshape(image_shape)\n",
    "        ax[i].imshow(z_)\n",
    "    plt.show()\n",
    "\n",
    "bar_eval = tqdm(test_loader, total=len(test_loader), bar_format='{l_bar}{bar}| {n_fmt}/{total_fmt} [{elapsed}<{remaining}]', leave=True, position=1)\n",
    "with torch.no_grad():\n",
    "    for data, data_noise in bar_eval:\n",
    "        data, data_noise = data.to(device), data_noise.to(device)\n",
    "        output = model(data)\n",
    "        break\n",
    "data_ = data.cpu().numpy()\n",
    "plotn(5,data_[0:5])\n",
    "output_ = output.detach().cpu().numpy()\n",
    "plotn(5,output_[0:5])\n",
    "data_noise_ = data_noise.cpu().numpy()\n",
    "plotn(5,data_noise_[0:5])"
   ]
  },
  {
   "cell_type": "markdown",
   "metadata": {},
   "source": [
    "# Up scale"
   ]
  },
  {
   "cell_type": "code",
   "execution_count": 106,
   "metadata": {},
   "outputs": [],
   "source": [
    "class AutoEncoder_V4_upscale(nn.Module):\n",
    "    def __init__(self, *args, **kwargs) -> None:\n",
    "        super().__init__(*args, **kwargs)\n",
    "        self.encoder = nn.Sequential(\n",
    "                nn.Conv2d(1, 32, 2, stride=2),\n",
    "                nn.ReLU(),\n",
    "                nn.Conv2d(32, 32, 2, stride=2),\n",
    "                nn.ReLU(),\n",
    "                nn.Conv2d(32, 64, 2, stride=2),\n",
    "                nn.ReLU(),\n",
    "                )\n",
    "        self.decoder = nn.Sequential(\n",
    "                        nn.ConvTranspose2d(64, 32, 3, stride=2, padding=0),\n",
    "                        nn.ReLU(),\n",
    "                        nn.ConvTranspose2d(32, 32, 3, stride=2, padding=0),\n",
    "                        nn.ReLU(),\n",
    "                        nn.ConvTranspose2d(32, 32, 2, stride=2, padding=0),\n",
    "                        nn.ReLU(),\n",
    "                        nn.ConvTranspose2d(32, 1, 2, stride=2, padding=0),\n",
    "                        nn.Sigmoid()\n",
    "                )\n",
    "    def forward(self, x):\n",
    "        x = self.encoder(x)\n",
    "        x = self.decoder(x)\n",
    "        return x"
   ]
  },
  {
   "cell_type": "code",
   "execution_count": 107,
   "metadata": {},
   "outputs": [],
   "source": [
    "class MyMNIST_upscale(datasets.MNIST):\n",
    "    def __init__(self, root, train=True, transform=None, target_transform=None, download=False):\n",
    "        super(MyMNIST_upscale, self).__init__(root, train, transform, target_transform, download)\n",
    "        self.transform_half = transforms.Compose([\n",
    "                transforms.Resize((14, 14)),\n",
    "            ])\n",
    "\n",
    "    def __getitem__(self, index):\n",
    "        img, target = super().__getitem__(index)\n",
    "        img_half = self.transform_half(img)\n",
    "        return img, img_half\n",
    "        \n",
    "transform=transforms.Compose([\n",
    "    transforms.ToTensor(),\n",
    "    ])\n",
    "dataset1 = MyMNIST_upscale('./data', train=True, download=False, transform=transform)\n",
    "\n",
    "dataset2 = MyMNIST_upscale('./data', train=False, transform=transform)\n"
   ]
  },
  {
   "cell_type": "code",
   "execution_count": 108,
   "metadata": {},
   "outputs": [],
   "source": [
    "train_loader = DataLoader(dataset1, batch_size=128, shuffle=True)\n",
    "test_loader = DataLoader(dataset2, batch_size=128, shuffle=False)"
   ]
  },
  {
   "cell_type": "code",
   "execution_count": 81,
   "metadata": {},
   "outputs": [
    {
     "name": "stderr",
     "output_type": "stream",
     "text": [
      "  0%|          | 0/469 [00:00<?]"
     ]
    },
    {
     "name": "stdout",
     "output_type": "stream",
     "text": [
      "torch.Size([128, 1, 28, 28]) torch.Size([128, 1, 14, 14])\n"
     ]
    },
    {
     "name": "stderr",
     "output_type": "stream",
     "text": [
      "\n"
     ]
    }
   ],
   "source": [
    "bar = tqdm(train_loader, total=len(train_loader), bar_format='{l_bar}{bar}| {n_fmt}/{total_fmt} [{elapsed}<{remaining}]', leave=True, position=0)\n",
    "for batch_idx, (data, data_half) in enumerate(bar):\n",
    "    data, data_half = data.to(device), data_half.to(device)\n",
    "    print(data.shape, data_half.shape)\n",
    "    break"
   ]
  },
  {
   "cell_type": "code",
   "execution_count": 105,
   "metadata": {},
   "outputs": [
    {
     "name": "stdout",
     "output_type": "stream",
     "text": [
      "torch.Size([3, 64, 1, 1])\n",
      "torch.Size([3, 1, 28, 28])\n"
     ]
    }
   ],
   "source": [
    "encoder = nn.Sequential(\n",
    "                nn.Conv2d(1, 32, 2, stride=2),\n",
    "                nn.ReLU(),\n",
    "                nn.Conv2d(32, 32, 2, stride=2),\n",
    "                nn.ReLU(),\n",
    "                nn.Conv2d(32, 64, 2, stride=2),\n",
    "                nn.ReLU(),\n",
    "                )\n",
    "decoder = nn.Sequential(\n",
    "                        nn.ConvTranspose2d(64, 32, 3, stride=2, padding=0),\n",
    "                        nn.ReLU(),\n",
    "                        nn.ConvTranspose2d(32, 32, 3, stride=2, padding=0),\n",
    "                        nn.ReLU(),\n",
    "                        nn.ConvTranspose2d(32, 32, 2, stride=2, padding=0),\n",
    "                        nn.ReLU(),\n",
    "                        nn.ConvTranspose2d(32, 1, 2, stride=2, padding=0),\n",
    "                        nn.Sigmoid()\n",
    "                )\n",
    "# input_shape = (1, 28, 28)\n",
    "encoder_output = encoder(torch.randn(3, 1, 14, 14))\n",
    "print(encoder_output.shape)\n",
    "decoder_output = decoder(encoder_output)\n",
    "print(decoder_output.shape)"
   ]
  },
  {
   "cell_type": "code",
   "execution_count": 111,
   "metadata": {},
   "outputs": [
    {
     "name": "stderr",
     "output_type": "stream",
     "text": [
      "  0%|          | 0/469 [00:00<?]/home/thuyentd/miniconda3/envs/CS2310.CH1810.lab5/lib/python3.10/site-packages/torchvision/transforms/functional.py:1603: UserWarning: The default value of the antialias parameter of all the resizing transforms (Resize(), RandomResizedCrop(), etc.) will change from None to True in v0.17, in order to be consistent across the PIL and Tensor backends. To suppress this warning, directly pass antialias=True (recommended, future default), antialias=None (current default, which means False for Tensors and True for PIL), or antialias=False (only works on Tensors - PIL will still use antialiasing). This also applies if you are using the inference transforms from the models weights: update the call to weights.transforms(antialias=True).\n",
      "  warnings.warn(\n",
      "[TRAIN]:Epoch 0 Loss 0.0482: 100%|██████████| 469/469 [00:12<00:00]\n",
      "[VAL]:Epoch 0 Loss 0.0499: 100%|██████████| 79/79 [00:01<00:00]\n",
      "[TRAIN]:Epoch 1 Loss 0.0417: 100%|██████████| 469/469 [00:12<00:00]\n",
      "[TRAIN]:Epoch 2 Loss 0.0372: 100%|██████████| 469/469 [00:11<00:00]\n",
      "[TRAIN]:Epoch 3 Loss 0.0331: 100%|██████████| 469/469 [00:11<00:00]\n",
      "[TRAIN]:Epoch 4 Loss 0.0321: 100%|██████████| 469/469 [00:12<00:00]\n",
      "[TRAIN]:Epoch 5 Loss 0.0313: 100%|██████████| 469/469 [00:11<00:00]\n",
      "[TRAIN]:Epoch 6 Loss 0.0318: 100%|██████████| 469/469 [00:11<00:00]\n",
      "[TRAIN]:Epoch 7 Loss 0.0302: 100%|██████████| 469/469 [00:12<00:00]\n",
      "[TRAIN]:Epoch 8 Loss 0.0308: 100%|██████████| 469/469 [00:12<00:00]\n",
      "[TRAIN]:Epoch 9 Loss 0.0294: 100%|██████████| 469/469 [00:12<00:00]\n",
      "[TRAIN]:Epoch 10 Loss 0.0318: 100%|██████████| 469/469 [00:11<00:00]\n",
      "[VAL]:Epoch 10 Loss 0.0297: 100%|██████████| 79/79 [00:02<00:00]\n",
      "[TRAIN]:Epoch 11 Loss 0.0276: 100%|██████████| 469/469 [00:11<00:00]\n",
      "[TRAIN]:Epoch 12 Loss 0.0299: 100%|██████████| 469/469 [00:12<00:00]\n",
      "[TRAIN]:Epoch 13 Loss 0.0279: 100%|██████████| 469/469 [00:11<00:00]\n",
      "[TRAIN]:Epoch 14 Loss 0.0304: 100%|██████████| 469/469 [00:11<00:00]\n",
      "[TRAIN]:Epoch 15 Loss 0.0272: 100%|██████████| 469/469 [00:12<00:00]\n",
      "[TRAIN]:Epoch 16 Loss 0.0280: 100%|██████████| 469/469 [00:12<00:00]\n",
      "[TRAIN]:Epoch 17 Loss 0.0275: 100%|██████████| 469/469 [00:11<00:00]\n",
      "[TRAIN]:Epoch 18 Loss 0.0297: 100%|██████████| 469/469 [00:11<00:00]\n",
      "[TRAIN]:Epoch 19 Loss 0.0279: 100%|██████████| 469/469 [00:12<00:00]\n",
      "[TRAIN]:Epoch 20 Loss 0.0265: 100%|██████████| 469/469 [00:12<00:00]\n",
      "[VAL]:Epoch 20 Loss 0.0291: 100%|██████████| 79/79 [00:01<00:00]\n",
      "[TRAIN]:Epoch 21 Loss 0.0284: 100%|██████████| 469/469 [00:12<00:00]\n",
      "[TRAIN]:Epoch 22 Loss 0.0282: 100%|██████████| 469/469 [00:12<00:00]\n",
      "[TRAIN]:Epoch 23 Loss 0.0278: 100%|██████████| 469/469 [00:12<00:00]\n",
      "[TRAIN]:Epoch 24 Loss 0.0280: 100%|██████████| 469/469 [00:11<00:00]\n",
      "[TRAIN]:Epoch 25 Loss 0.0292: 100%|██████████| 469/469 [00:11<00:00]\n",
      "[TRAIN]:Epoch 26 Loss 0.0272: 100%|██████████| 469/469 [00:12<00:00]\n",
      "[TRAIN]:Epoch 27 Loss 0.0284: 100%|██████████| 469/469 [00:12<00:00]\n",
      "[TRAIN]:Epoch 28 Loss 0.0290: 100%|██████████| 469/469 [00:12<00:00]\n",
      "[TRAIN]:Epoch 29 Loss 0.0257: 100%|██████████| 469/469 [00:11<00:00]\n",
      "[TRAIN]:Epoch 30 Loss 0.0272: 100%|██████████| 469/469 [00:11<00:00]\n",
      "[VAL]:Epoch 30 Loss 0.0267: 100%|██████████| 79/79 [00:01<00:00]\n",
      "[TRAIN]:Epoch 31 Loss 0.0269: 100%|██████████| 469/469 [00:11<00:00]\n",
      "[TRAIN]:Epoch 32 Loss 0.0268: 100%|██████████| 469/469 [00:12<00:00]\n",
      "[TRAIN]:Epoch 33 Loss 0.0286: 100%|██████████| 469/469 [00:12<00:00]\n",
      "[TRAIN]:Epoch 34 Loss 0.0274: 100%|██████████| 469/469 [00:12<00:00]\n",
      "[TRAIN]:Epoch 35 Loss 0.0267: 100%|██████████| 469/469 [00:12<00:00]\n",
      "[TRAIN]:Epoch 36 Loss 0.0266: 100%|██████████| 469/469 [00:11<00:00]\n",
      "[TRAIN]:Epoch 37 Loss 0.0280: 100%|██████████| 469/469 [00:11<00:00]\n",
      "[TRAIN]:Epoch 38 Loss 0.0278: 100%|██████████| 469/469 [00:12<00:00]\n",
      "[TRAIN]:Epoch 39 Loss 0.0275: 100%|██████████| 469/469 [00:11<00:00]\n"
     ]
    }
   ],
   "source": [
    "from tqdm import tqdm \n",
    "model = AutoEncoder_V4_upscale().to(device)\n",
    "optimizer = optim.Adam(model.parameters(), lr=0.001, weight_decay=1e-5)\n",
    "total_epoch = 40\n",
    "eval_every = 10\n",
    "for epoch in range(total_epoch):\n",
    "    bar = tqdm(train_loader, total=len(train_loader), bar_format='{l_bar}{bar}| {n_fmt}/{total_fmt} [{elapsed}<{remaining}]', leave=True, position=0)\n",
    "    model.train()\n",
    "    for batch_idx, (data, data_half) in enumerate(bar):\n",
    "        data, data_half = data.to(device), data_half.to(device)\n",
    "        optimizer.zero_grad()\n",
    "        output = model(data_half)\n",
    "        loss = F.mse_loss(output, data)\n",
    "        loss.backward()\n",
    "        optimizer.step()\n",
    "        bar.set_description(f'[TRAIN]:Epoch {epoch} Loss {loss.item():.4f}')\n",
    "    if epoch % eval_every == 0:\n",
    "        model.eval()\n",
    "        bar_eval = tqdm(test_loader, total=len(test_loader), bar_format='{l_bar}{bar}| {n_fmt}/{total_fmt} [{elapsed}<{remaining}]', leave=True, position=1)\n",
    "        with torch.no_grad():\n",
    "            for data, data_half in bar_eval:\n",
    "                data, data_half = data.to(device), data_half.to(device)\n",
    "                output = model(data_half)\n",
    "                loss = F.mse_loss(output, data)\n",
    "                bar_eval.set_description(f'[VAL]:Epoch {epoch} Loss {loss.item():.4f}')\n",
    "        model.train()"
   ]
  },
  {
   "cell_type": "code",
   "execution_count": 118,
   "metadata": {},
   "outputs": [
    {
     "name": "stderr",
     "output_type": "stream",
     "text": [
      "  0%|          | 0/79 [00:00<?]\n"
     ]
    },
    {
     "data": {
      "image/png": "[encoded data removed]",
      "text/plain": [
       "<Figure size 640x480 with 5 Axes>"
      ]
     },
     "metadata": {},
     "output_type": "display_data"
    },
    {
     "data": {
      "image/png": "[encoded data removed]",
      "text/plain": [
       "<Figure size 640x480 with 5 Axes>"
      ]
     },
     "metadata": {},
     "output_type": "display_data"
    },
    {
     "data": {
      "image/png": "[encoded data removed]",
      "text/plain": [
       "<Figure size 640x480 with 5 Axes>"
      ]
     },
     "metadata": {},
     "output_type": "display_data"
    }
   ],
   "source": [
    "def plotn(n, x, image_shape=(28,28,1)):\n",
    "    fig, ax = plt.subplots(1, n)\n",
    "    for i, z in enumerate(x[0:n]):\n",
    "        z_ = z.reshape(image_shape)\n",
    "        ax[i].imshow(z_)\n",
    "    plt.show()\n",
    "\n",
    "bar_eval = tqdm(test_loader, total=len(test_loader), bar_format='{l_bar}{bar}| {n_fmt}/{total_fmt} [{elapsed}<{remaining}]', leave=True, position=1)\n",
    "with torch.no_grad():\n",
    "    for data, data_half in bar_eval:\n",
    "        data, data_half = data.to(device), data_half.to(device)\n",
    "        output = model(data_half)\n",
    "        break\n",
    "data_ = data.cpu().numpy()\n",
    "plotn(5,data_[0:5])\n",
    "data_half_ = data_half.cpu().numpy()\n",
    "plotn(5,data_half_[0:5], (14,14,1))\n",
    "output_ = output.detach().cpu().numpy()\n",
    "plotn(5,output_[0:5], (28,28,1))"
   ]
  },
  {
   "cell_type": "code",
   "execution_count": 117,
   "metadata": {},
   "outputs": [
    {
     "data": {
      "text/plain": [
       "(5, 1, 28, 28)"
      ]
     },
     "execution_count": 117,
     "metadata": {},
     "output_type": "execute_result"
    }
   ],
   "source": [
    "output_[0:5].shape"
   ]
  },
  {
   "cell_type": "code",
   "execution_count": null,
   "metadata": {},
   "outputs": [],
   "source": []
  }
 ],
 "metadata": {
  "kernelspec": {
   "display_name": "base",
   "language": "python",
   "name": "python3"
  },
  "language_info": {
   "codemirror_mode": {
    "name": "ipython",
    "version": 3
   },
   "file_extension": ".py",
   "mimetype": "text/x-python",
   "name": "python",
   "nbconvert_exporter": "python",
   "pygments_lexer": "ipython3",
   "version": "3.10.14"
  },
  "orig_nbformat": 4
 },
 "nbformat": 4,
 "nbformat_minor": 2
}
